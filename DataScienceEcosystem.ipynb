{
 "cells": [
  {
   "cell_type": "markdown",
   "id": "2ed40f06",
   "metadata": {},
   "source": [
    "# Data Science Tools and Ecosystem"
   ]
  },
  {
   "cell_type": "markdown",
   "id": "9ede92fd",
   "metadata": {},
   "source": [
    "In this notebook, Data Science Tools and Ecosystem are summarized."
   ]
  },
  {
   "cell_type": "markdown",
   "id": "d1770968",
   "metadata": {},
   "source": [
    "<b>Objectives:</b>\n",
    " - List of languages\n",
    " - Data Science libraries\n",
    " - Data Science tools\n",
    " - Arithmetic expressions"
   ]
  },
  {
   "cell_type": "markdown",
   "id": "c4f96afd",
   "metadata": {},
   "source": [
    "Some of the popular languages that Data Scientists use are:\n",
    "\n",
    "1. Julia\n",
    "2. Python\n",
    "3. R\n"
   ]
  },
  {
   "cell_type": "markdown",
   "id": "29d603c1",
   "metadata": {},
   "source": [
    "Some of the commonly used libraries used by Data Scientists are:\n",
    "1. Numpy\n",
    "2. Pandas\n",
    "3. Seaborn\n",
    "    "
   ]
  },
  {
   "cell_type": "markdown",
   "id": "4415c434",
   "metadata": {},
   "source": [
    "| Data Science Tools|\n",
    "|:-|\n",
    "| Jupyter Notebook |\n",
    "| Visual Studio |\n",
    "| Google Colab |"
   ]
  },
  {
   "cell_type": "markdown",
   "id": "1e16206b",
   "metadata": {},
   "source": [
    "### Below are a few examples of evaluating arithmetic expressions in Python"
   ]
  },
  {
   "cell_type": "code",
   "execution_count": 2,
   "id": "6db80777",
   "metadata": {},
   "outputs": [
    {
     "data": {
      "text/plain": [
       "17"
      ]
     },
     "execution_count": 2,
     "metadata": {},
     "output_type": "execute_result"
    }
   ],
   "source": [
    "#This is a simple arithmetic expression to multiply then add integers\n",
    "(3*4)+5"
   ]
  },
  {
   "cell_type": "code",
   "execution_count": 4,
   "id": "c669d408",
   "metadata": {},
   "outputs": [
    {
     "name": "stdout",
     "output_type": "stream",
     "text": [
      "200 minutes converted to hours is 33.33 hours\n"
     ]
    }
   ],
   "source": [
    "#This will convert 200 minutes to hours by dividing by 60\n",
    "print(\"200 minutes converted to hours is\", round(200/6,2), 'hours',)"
   ]
  },
  {
   "cell_type": "markdown",
   "id": "3f586416",
   "metadata": {},
   "source": [
    "## Author ##\n",
    "\n",
    "Glory Kelechi Eke"
   ]
  },
  {
   "cell_type": "code",
   "execution_count": null,
   "id": "4e5c6ac3",
   "metadata": {},
   "outputs": [],
   "source": []
  }
 ],
 "metadata": {
  "kernelspec": {
   "display_name": "Python 3 (ipykernel)",
   "language": "python",
   "name": "python3"
  },
  "language_info": {
   "codemirror_mode": {
    "name": "ipython",
    "version": 3
   },
   "file_extension": ".py",
   "mimetype": "text/x-python",
   "name": "python",
   "nbconvert_exporter": "python",
   "pygments_lexer": "ipython3",
   "version": "3.11.5"
  }
 },
 "nbformat": 4,
 "nbformat_minor": 5
}
